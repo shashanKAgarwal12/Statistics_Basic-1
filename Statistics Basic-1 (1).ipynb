{
 "cells": [
  {
   "cell_type": "markdown",
   "id": "153cb21d-ff4d-4ac3-b981-1846065a7f93",
   "metadata": {},
   "source": [
    "## Answer no.1\n",
    "Statistics is the science of collecting , organizing and analyzing the data \n"
   ]
  },
  {
   "cell_type": "markdown",
   "id": "9b7144e5-3ee1-41a7-806a-434d4299efec",
   "metadata": {},
   "source": [
    "## Answer No.2"
   ]
  },
  {
   "cell_type": "markdown",
   "id": "a07fb07d-6896-489f-8380-5acae555862e",
   "metadata": {},
   "source": [
    "There are two types of Statistics :\n",
    "1 Descriptive Statistics :\n",
    "                            It consists of organizing and summarzing data.\n",
    "Eg. 1. Measure of central tendency.\n",
    "    2. Measure of dispersion. \n",
    "    3. Different tyes of Distribution of data.\n",
    "    \n",
    "2 Inferential Statistics :\n",
    "                            It consists of using data you have measured to form conclusion.\n",
    "Eg. 1. Z-test \n",
    "    2. t-test \n",
    "    3. CHI Square"
   ]
  },
  {
   "cell_type": "markdown",
   "id": "e718ab34-e655-46d8-b1f5-f3a8b43fdc61",
   "metadata": {},
   "source": [
    "## Answer No.3"
   ]
  },
  {
   "cell_type": "markdown",
   "id": "09361e1a-694b-4f76-8596-ae9cc60d9c03",
   "metadata": {},
   "source": [
    "There are two types of Data :-\n",
    "1. Quantitative Data : \n",
    "                        In Quantitative data there is \"numerical values\". \n",
    "There are two parts of Quantitative data. They are as follow :\n",
    "1. Discrete = In this whole numbers are include.\n",
    "Eg. No. of Bank Accounts.\n",
    "    No. of children in the family.\n",
    "    \n",
    "2. Continuous = Any number is avaliable.\n",
    "Eg. Weight \n",
    "    Height \n",
    "    Speed \n",
    "2. Qualitative Data :\n",
    "                        In Qualitative data there is \"catrqurical data\". \n",
    "There are two parts of Qualitative data. They are as follow :\n",
    "1. Nomial = In this \"Rank is Not\" include.\n",
    "Eg. Blood Groups.\n",
    "    Pincode\n",
    "    \n",
    "2. Ordinal = In this \"Rank\" is include.\n",
    "Eg. Feedback like Good , Better , Bad  \n",
    "    Rank in class like 1st , 2nd , 3rd                        "
   ]
  },
  {
   "cell_type": "markdown",
   "id": "426c10ea-5e40-44fd-8b02-66338f569772",
   "metadata": {},
   "source": [
    "## Answer No.4"
   ]
  },
  {
   "cell_type": "markdown",
   "id": "8891b2fb-75c8-4ac5-8c79-1d35267b358b",
   "metadata": {},
   "source": [
    "(i) Grading in exam: A+, A, B+, B, C+, C, D, E    \n",
    "Ans. Nominal Data\n",
    "(ii) Colour of mangoes: yellow, green, orange, red\n",
    "Ans. Nominal\n",
    "(iii) Height data of a class: [178.9, 179, 179.5, 176, 177.2, 178.3, 175.8,...]\n",
    "Ans. Ordinal\n",
    "(iv) Number of mangoes exported by a farm: [500, 600, 478, 672, ...]\n",
    "Ans. Ordinal"
   ]
  },
  {
   "cell_type": "markdown",
   "id": "e7b2a5f3-4dea-4aa7-be9c-7ca2433088ef",
   "metadata": {},
   "source": [
    "## Answer No.5"
   ]
  },
  {
   "cell_type": "markdown",
   "id": "bb1abc47-5c33-4701-83f8-09e7bf980e5f",
   "metadata": {},
   "source": [
    "There are four level of measurement. They are as follow:\n",
    "1. Nominal Scale Data \n",
    "Eg. Favorite color out of 10\n",
    "    Red     - 5    50%\n",
    "    Green   - 3  - 30%\n",
    "    Blue    - 2  - 20%\n",
    "2. Ordinal Scale Data \n",
    "Eg. 1 - Best \n",
    "    2 - Good \n",
    "    3 - Bad\n",
    "3. Interval Scale Data \n",
    "Eg. Temprature variable\n",
    "    30F\n",
    "    60F\n",
    "    90F\n",
    "4. Ratio Scale Data\n",
    "Eg. Student marks in class\n",
    "    30,80,50,60,40,75,90\n",
    "    Ratio = 90/30\n",
    "            3:1"
   ]
  },
  {
   "cell_type": "markdown",
   "id": "ad7f7d05-fef2-400e-a3c8-866184c9c741",
   "metadata": {},
   "source": [
    "## Answer No.6\n",
    "Understanding the level of measurement is crucial when analyzing data because it determines the appropriate statistical techniques that can be applied to the data and the meaningful interpretations that can be made from the results. The level of measurement refers to the nature and properties of the data and is typically categorized into four main types: nominal, ordinal, interval, and ratio."
   ]
  },
  {
   "cell_type": "markdown",
   "id": "d6a8a1e4-0e2f-4b38-a352-3149a2447605",
   "metadata": {},
   "source": [
    "## Answer No.7\n",
    "The Nominal data types differ from the Ordinal data type because in the Nominal data type there is \n",
    "Not a Rank and in the Ordinal data type there is a Rank .That's why the Nominal data type is differ from the \n",
    "Ordinal data type."
   ]
  },
  {
   "cell_type": "markdown",
   "id": "06e0c554-48e3-40d1-8336-b9d84ab3d12b",
   "metadata": {},
   "source": [
    "## Answer No.8 \n",
    "\"Box plot\" can be used to display data in terms of range"
   ]
  },
  {
   "cell_type": "markdown",
   "id": "1804e4d6-ae82-4227-834d-3d59c29f7c8a",
   "metadata": {},
   "source": [
    "## Answer No.9     "
   ]
  },
  {
   "cell_type": "markdown",
   "id": "ba040ec1-29b3-4c03-a052-1a3673c092d5",
   "metadata": {},
   "source": [
    "Descriptive Statistics :\n",
    "                        The descriptive statistics is consists of Organizing and Summarizing data.\n",
    "                        In this Measure of Centear Tendency , Measure of dispersion and Different types of Distribution of                             data are include\n",
    "Inferential Statistics:\n",
    "                        The inferential statistics is consists of using data you have measured to form conclusion.\n",
    "                        In this Z-test , t-test and CHI Square are includes. \n",
    "                        "
   ]
  },
  {
   "cell_type": "markdown",
   "id": "4f453a59-5839-4de3-a263-7dfd125c87d4",
   "metadata": {},
   "source": [
    "## Answer No.10"
   ]
  },
  {
   "cell_type": "markdown",
   "id": "d168e51d-9925-4e36-8e21-2cc440339e04",
   "metadata": {},
   "source": [
    "In statistics, measures of central tendency and variability are essential in summarizing and understanding datasets. They provide valuable information about the typical or central value of the data and how the data points are spread or dispersed around that central value.\n",
    "\n",
    "Mean: The mean is the most common measure of central tendency and is calculated by summing all the data points and dividing by the total number of data points. It represents the arithmetic average of the dataset.\n",
    "\n",
    "Median: The median is the middle value of the dataset when the data points are arranged in ascending or descending order. If the dataset has an odd number of values, the median is the middle data point.\n",
    "\n",
    "Mode: The mode is the value that appears most frequently in the dataset. A dataset may have one mode (unimodal), two modes (bimodal), or more (multimodal). The mode is useful when dealing with categorical or discrete data, but it can also be used with continuous data.\n",
    "\n",
    "Range: The range is the simplest measure of variability and is calculated as the difference between the maximum and minimum values in the dataset. It provides a rough estimate of the spread of the data but is sensitive to extreme values.\n",
    "\n",
    "Variance: The variance is a more precise measure of variability than the range. It quantifies how much the data points deviate from the mean. It is calculated as the average of the squared differences between each data point and the mean. A higher variance indicates greater dispersion of data points from the mean.\n",
    "\n",
    "Standard Deviation: The standard deviation is the square root of the variance and is one of the most commonly used measures of variability. It measures the average amount of deviation of data points from the mean. A smaller standard deviation indicates that data points are closer to the mean, while a larger standard deviation suggests a wider spread.\n",
    "\n",
    "Interquartile Range (IQR): The IQR is a measure of variability that represents the range between the first quartile (25th percentile) and the third quartile (75th percentile) of the data. It is less sensitive to extreme values than the range and provides a measure of the spread of the middle 50% of the data."
   ]
  }
 ],
 "metadata": {
  "kernelspec": {
   "display_name": "Python 3 (ipykernel)",
   "language": "python",
   "name": "python3"
  },
  "language_info": {
   "codemirror_mode": {
    "name": "ipython",
    "version": 3
   },
   "file_extension": ".py",
   "mimetype": "text/x-python",
   "name": "python",
   "nbconvert_exporter": "python",
   "pygments_lexer": "ipython3",
   "version": "3.10.8"
  }
 },
 "nbformat": 4,
 "nbformat_minor": 5
}
